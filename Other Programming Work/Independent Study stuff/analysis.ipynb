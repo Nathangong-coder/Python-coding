{
 "cells": [
  {
   "cell_type": "code",
   "execution_count": 1,
   "metadata": {},
   "outputs": [],
   "source": [
    "import pandas as pd\n",
    "import matplotlib\n",
    "import matplotlib.pyplot as plt\n",
    "import numpy as np\n"
   ]
  },
  {
   "cell_type": "code",
   "execution_count": 2,
   "metadata": {},
   "outputs": [],
   "source": [
    "pd.set_option('display.max_columns', None)\n",
    "\n",
    "import matplotlib.pyplot as plt\n",
    "from matplotlib.ticker import FormatStrFormatter\n",
    "from pylab import rcParams\n",
    "import matplotlib as mpl\n",
    "mpl.rcParams['figure.dpi'] = 72\n",
    "\n",
    "import seaborn as sns\n",
    "sns.set_style(\"darkgrid\")\n",
    "sns.set_context(context=\"paper\", font_scale=1.5, rc=None)\n",
    "sns.set(font=\"serif\")\n",
    "\n",
    "import plotly.express as px\n",
    "import plotly.graph_objects as go\n",
    "\n",
    "import geopandas as gpd\n",
    "\n",
    "\n",
    "import libpysal as ps\n",
    "from libpysal  import weights\n",
    "from libpysal.weights import Queen\n",
    "\n",
    "import esda\n",
    "from esda.moran import Moran, Moran_Local\n",
    "\n",
    "import splot\n",
    "from splot.esda import moran_scatterplot, plot_moran, lisa_cluster, plot_local_autocorrelation\n",
    "from splot.libpysal import plot_spatial_weights\n",
    "\n",
    "from giddy.directional import Rose\n",
    "\n",
    "import statsmodels.api as sm\n",
    "import statsmodels.formula.api as smf\n",
    "from stargazer.stargazer import Stargazer, LineLocation\n",
    "\n",
    "from spreg import OLS\n",
    "from spreg import MoranRes\n",
    "from spreg import ML_Lag\n",
    "from spreg import ML_Error \n",
    "\n",
    "from mgwr.gwr import GWR, MGWR\n",
    "from mgwr.sel_bw import Sel_BW\n",
    "from mgwr.utils import shift_colormap, truncate_colormap\n",
    "\n",
    "import warnings\n",
    "warnings.filterwarnings('ignore') \n",
    "import time"
   ]
  },
  {
   "cell_type": "code",
   "execution_count": 3,
   "metadata": {},
   "outputs": [
    {
     "name": "stdout",
     "output_type": "stream",
     "text": [
      "  Report Number   Offense ID  Offense Start DateTime    Offense End DateTime   \n",
      "0   2020-044620  12605873663  02/05/2020 10:10:00 AM                     NaN  \\\n",
      "1   2020-044452  12605598696  02/03/2020 08:00:00 AM  02/04/2020 08:00:00 AM   \n",
      "2   2020-044465  12605567653  02/02/2020 08:30:00 PM  02/02/2020 09:30:00 PM   \n",
      "3   2020-044225  12605174036  02/05/2020 01:17:00 AM  02/05/2020 02:21:00 AM   \n",
      "4   2020-044076  12605081469  02/05/2020 12:51:21 AM                     NaN   \n",
      "\n",
      "          Report DateTime Group A B Crime Against Category   \n",
      "0  02/05/2020 11:24:31 AM         A                SOCIETY  \\\n",
      "1  02/05/2020 10:06:28 AM         A               PROPERTY   \n",
      "2  02/05/2020 09:39:33 AM         A               PROPERTY   \n",
      "3  02/05/2020 03:30:55 AM         A               PROPERTY   \n",
      "4  02/05/2020 12:51:31 AM         B                SOCIETY   \n",
      "\n",
      "                       Offense Parent Group   \n",
      "0                    DRUG/NARCOTIC OFFENSES  \\\n",
      "1                             LARCENY-THEFT   \n",
      "2                                   ROBBERY   \n",
      "3  DESTRUCTION/DAMAGE/VANDALISM OF PROPERTY   \n",
      "4               DRIVING UNDER THE INFLUENCE   \n",
      "\n",
      "                                       Offense Offense Code Precinct Sector   \n",
      "0                     Drug/Narcotic Violations          35A        W      Q  \\\n",
      "1  Theft of Motor Vehicle Parts or Accessories          23G        N      J   \n",
      "2                                      Robbery          120        N      U   \n",
      "3     Destruction/Damage/Vandalism of Property          290        W      Q   \n",
      "4                  Driving Under the Influence          90D        N      B   \n",
      "\n",
      "  Beat               MCPP             100 Block Address   Longitude   Latitude  \n",
      "0   Q1           MAGNOLIA      32XX BLOCK OF 23RD AVE W -122.385974  47.649387  \n",
      "1   J3  ROOSEVELT/RAVENNA      63XX BLOCK OF 5TH AVE NE -122.323399  47.675118  \n",
      "2   U3  ROOSEVELT/RAVENNA  26TH AVE NE / NE BLAKELEY ST -122.299552  47.666384  \n",
      "3   Q1           MAGNOLIA       22XX BLOCK OF W RAYE ST -122.384865  47.642927  \n",
      "4   B2      BALLARD SOUTH       NW 46TH ST / 8TH AVE NW -122.366195  47.662193  \n"
     ]
    }
   ],
   "source": [
    "analysis_df=pd.read_csv(\"C:/Users/NGong/OneDrive - Eastside Preparatory School/Documents/IS stuff/SPD_Crime_Data__2008-Present_20240914.csv\")\n",
    "print(analysis_df.head())"
   ]
  },
  {
   "cell_type": "code",
   "execution_count": 4,
   "metadata": {},
   "outputs": [],
   "source": [
    "date_time_df=analysis_df[['Precinct','Sector','Beat','MCPP','Offense Start DateTime','Offense End DateTime','Report DateTime','Offense','Longitude','Latitude']]"
   ]
  },
  {
   "cell_type": "code",
   "execution_count": 5,
   "metadata": {},
   "outputs": [],
   "source": [
    "date_time_df['Offense Start DateTime'] = date_time_df['Offense Start DateTime'].replace('', pd.NA).fillna(date_time_df['Offense End DateTime'])"
   ]
  },
  {
   "cell_type": "code",
   "execution_count": 6,
   "metadata": {},
   "outputs": [
    {
     "name": "stdout",
     "output_type": "stream",
     "text": [
      "0          False\n",
      "1          False\n",
      "2           True\n",
      "3          False\n",
      "4          False\n",
      "           ...  \n",
      "1144384    False\n",
      "1144385     True\n",
      "1144386    False\n",
      "1144387     True\n",
      "1144388     True\n",
      "Name: Offense Start DateTime, Length: 1144389, dtype: object\n"
     ]
    }
   ],
   "source": [
    "PM_checker=date_time_df['Offense Start DateTime'].str.contains('PM')\n",
    "print(PM_checker)"
   ]
  },
  {
   "cell_type": "code",
   "execution_count": 7,
   "metadata": {},
   "outputs": [],
   "source": [
    "date_time_df['Offense Start DateTime']=pd.to_datetime(date_time_df['Offense Start DateTime'],format='mixed')"
   ]
  },
  {
   "cell_type": "code",
   "execution_count": 8,
   "metadata": {},
   "outputs": [],
   "source": [
    "date_time_df['Offense End DateTime']=pd.to_datetime(date_time_df['Offense End DateTime'],errors='coerce',format='mixed')"
   ]
  },
  {
   "cell_type": "code",
   "execution_count": 9,
   "metadata": {},
   "outputs": [],
   "source": [
    "date_time_df['Report DateTime']=pd.to_datetime(date_time_df['Report DateTime'],format='mixed')"
   ]
  },
  {
   "cell_type": "code",
   "execution_count": 10,
   "metadata": {},
   "outputs": [
    {
     "name": "stdout",
     "output_type": "stream",
     "text": [
      "        Precinct   Sector     Beat               MCPP Offense Start DateTime   \n",
      "0              W        Q       Q1           MAGNOLIA    2020-02-05 10:10:00  \\\n",
      "1              N        J       J3  ROOSEVELT/RAVENNA    2020-02-03 08:00:00   \n",
      "2              N        U       U3  ROOSEVELT/RAVENNA    2020-02-02 20:30:00   \n",
      "3              W        Q       Q1           MAGNOLIA    2020-02-05 01:17:00   \n",
      "4              N        B       B2      BALLARD SOUTH    2020-02-05 00:51:21   \n",
      "...          ...      ...      ...                ...                    ...   \n",
      "1144384      OOJ  UNKNOWN  UNKNOWN            UNKNOWN    2008-01-07 00:00:00   \n",
      "1144385      OOJ       99       99            UNKNOWN    2008-01-07 12:00:00   \n",
      "1144386      OOJ  UNKNOWN  UNKNOWN            UNKNOWN    2008-01-08 02:14:00   \n",
      "1144387      OOJ  UNKNOWN  UNKNOWN            UNKNOWN    2008-01-02 20:53:00   \n",
      "1144388      OOJ  UNKNOWN  UNKNOWN            UNKNOWN    2008-01-02 20:53:00   \n",
      "\n",
      "        Offense End DateTime     Report DateTime   \n",
      "0                        NaT 2020-02-05 11:24:31  \\\n",
      "1        2020-02-04 08:00:00 2020-02-05 10:06:28   \n",
      "2        2020-02-02 21:30:00 2020-02-05 09:39:33   \n",
      "3        2020-02-05 02:21:00 2020-02-05 03:30:55   \n",
      "4                        NaT 2020-02-05 00:51:31   \n",
      "...                      ...                 ...   \n",
      "1144384  2008-01-07 00:00:00 2008-01-16 12:30:00   \n",
      "1144385  2008-01-08 16:00:00 2008-01-08 16:23:00   \n",
      "1144386                  NaT 2008-01-08 02:14:00   \n",
      "1144387                  NaT 2008-01-02 20:53:00   \n",
      "1144388                  NaT 2008-01-02 20:53:00   \n",
      "\n",
      "                                             Offense   Longitude   Latitude  \n",
      "0                           Drug/Narcotic Violations -122.385974  47.649387  \n",
      "1        Theft of Motor Vehicle Parts or Accessories -122.323399  47.675118  \n",
      "2                                            Robbery -122.299552  47.666384  \n",
      "3           Destruction/Damage/Vandalism of Property -122.384865  47.642927  \n",
      "4                        Driving Under the Influence -122.366195  47.662193  \n",
      "...                                              ...         ...        ...  \n",
      "1144384                                   Bad Checks -122.293381  47.456405  \n",
      "1144385   Credit Card/Automated Teller Machine Fraud    0.000000   0.000000  \n",
      "1144386                     Drug/Narcotic Violations -122.349976  47.490243  \n",
      "1144387                     Drug/Narcotic Violations -122.221719  47.500956  \n",
      "1144388                     Drug/Narcotic Violations -122.221719  47.500956  \n",
      "\n",
      "[1144389 rows x 10 columns]\n",
      "Precinct                          object\n",
      "Sector                            object\n",
      "Beat                              object\n",
      "MCPP                              object\n",
      "Offense Start DateTime    datetime64[ns]\n",
      "Offense End DateTime      datetime64[ns]\n",
      "Report DateTime           datetime64[ns]\n",
      "Offense                           object\n",
      "Longitude                        float64\n",
      "Latitude                         float64\n",
      "dtype: object\n"
     ]
    }
   ],
   "source": [
    "print(date_time_df)\n",
    "print(date_time_df.dtypes)"
   ]
  },
  {
   "cell_type": "code",
   "execution_count": 11,
   "metadata": {},
   "outputs": [],
   "source": [
    "#Redoing this for other NAs\n",
    "date_time_df['Offense Start DateTime'] = date_time_df['Offense Start DateTime'].replace('', pd.NA).fillna(date_time_df['Offense End DateTime'])"
   ]
  },
  {
   "cell_type": "code",
   "execution_count": 12,
   "metadata": {},
   "outputs": [
    {
     "name": "stdout",
     "output_type": "stream",
     "text": [
      "0          10.0\n",
      "1           8.0\n",
      "2          20.0\n",
      "3           1.0\n",
      "4           0.0\n",
      "           ... \n",
      "1144384     0.0\n",
      "1144385    12.0\n",
      "1144386     2.0\n",
      "1144387    20.0\n",
      "1144388    20.0\n",
      "Name: Hour, Length: 1144389, dtype: float64\n"
     ]
    }
   ],
   "source": [
    "date_time_df['Hour']=date_time_df['Offense Start DateTime'].dt.hour\n",
    "date_time_df['Minute']=date_time_df['Offense Start DateTime'].dt.minute\n",
    "print(date_time_df['Hour'])"
   ]
  },
  {
   "cell_type": "code",
   "execution_count": 13,
   "metadata": {},
   "outputs": [],
   "source": [
    "date_time_df['Month']=date_time_df['Offense Start DateTime'].dt.month\n",
    "date_time_df['Year']=date_time_df['Offense Start DateTime'].dt.year"
   ]
  },
  {
   "cell_type": "code",
   "execution_count": 14,
   "metadata": {},
   "outputs": [
    {
     "name": "stdout",
     "output_type": "stream",
     "text": [
      "0          2.0\n",
      "1          2.0\n",
      "2          2.0\n",
      "3          2.0\n",
      "4          2.0\n",
      "          ... \n",
      "1144384    1.0\n",
      "1144385    1.0\n",
      "1144386    1.0\n",
      "1144387    1.0\n",
      "1144388    1.0\n",
      "Name: Month, Length: 1144389, dtype: float64\n",
      "65523\n"
     ]
    }
   ],
   "source": [
    "print(date_time_df['Month'])\n",
    "print((date_time_df['Hour'] == 12).sum())"
   ]
  },
  {
   "cell_type": "code",
   "execution_count": 15,
   "metadata": {},
   "outputs": [
    {
     "name": "stdout",
     "output_type": "stream",
     "text": [
      "         Precinct  Sector   Beat   MCPP  Offense Start DateTime   \n",
      "0           False   False  False  False                   False  \\\n",
      "1           False   False  False  False                   False   \n",
      "2           False   False  False  False                   False   \n",
      "3           False   False  False  False                   False   \n",
      "4           False   False  False  False                   False   \n",
      "...           ...     ...    ...    ...                     ...   \n",
      "1144384     False   False  False  False                   False   \n",
      "1144385     False   False  False  False                   False   \n",
      "1144386     False   False  False  False                   False   \n",
      "1144387     False   False  False  False                   False   \n",
      "1144388     False   False  False  False                   False   \n",
      "\n",
      "         Offense End DateTime  Report DateTime  Offense  Longitude  Latitude   \n",
      "0                        True            False    False      False     False  \\\n",
      "1                       False            False    False      False     False   \n",
      "2                       False            False    False      False     False   \n",
      "3                       False            False    False      False     False   \n",
      "4                        True            False    False      False     False   \n",
      "...                       ...              ...      ...        ...       ...   \n",
      "1144384                 False            False    False      False     False   \n",
      "1144385                 False            False    False      False     False   \n",
      "1144386                  True            False    False      False     False   \n",
      "1144387                  True            False    False      False     False   \n",
      "1144388                  True            False    False      False     False   \n",
      "\n",
      "          Hour  Minute  Month   Year  \n",
      "0        False   False  False  False  \n",
      "1        False   False  False  False  \n",
      "2        False   False  False  False  \n",
      "3        False   False  False  False  \n",
      "4        False   False  False  False  \n",
      "...        ...     ...    ...    ...  \n",
      "1144384  False   False  False  False  \n",
      "1144385  False   False  False  False  \n",
      "1144386  False   False  False  False  \n",
      "1144387  False   False  False  False  \n",
      "1144388  False   False  False  False  \n",
      "\n",
      "[1144389 rows x 14 columns]\n"
     ]
    }
   ],
   "source": [
    "#Dropping all NAs in both the PM_checker and in the original dataframe\n",
    "NaNpositions=date_time_df.isna()\n",
    "print(NaNpositions)\n",
    "NaNindices=NaNpositions.stack()\n",
    "nan_indexes = NaNindices[NaNindices].index\n",
    "rows_with_nan = set(idx[0] for idx in nan_indexes)\n",
    "df_dropped_rows = date_time_df.drop(index=rows_with_nan)\n",
    "other_array_dropped_rows = np.delete(PM_checker, list(rows_with_nan), axis=0)"
   ]
  },
  {
   "cell_type": "code",
   "execution_count": 16,
   "metadata": {},
   "outputs": [
    {
     "name": "stdout",
     "output_type": "stream",
     "text": [
      "        Precinct   Sector     Beat               MCPP Offense Start DateTime   \n",
      "0              W        Q       Q1           MAGNOLIA    2020-02-05 10:10:00  \\\n",
      "1              N        J       J3  ROOSEVELT/RAVENNA    2020-02-03 08:00:00   \n",
      "2              N        U       U3  ROOSEVELT/RAVENNA    2020-02-02 20:30:00   \n",
      "3              W        Q       Q1           MAGNOLIA    2020-02-05 01:17:00   \n",
      "4              N        B       B2      BALLARD SOUTH    2020-02-05 00:51:21   \n",
      "...          ...      ...      ...                ...                    ...   \n",
      "1144384      OOJ  UNKNOWN  UNKNOWN            UNKNOWN    2008-01-07 00:00:00   \n",
      "1144385      OOJ       99       99            UNKNOWN    2008-01-07 12:00:00   \n",
      "1144386      OOJ  UNKNOWN  UNKNOWN            UNKNOWN    2008-01-08 02:14:00   \n",
      "1144387      OOJ  UNKNOWN  UNKNOWN            UNKNOWN    2008-01-02 20:53:00   \n",
      "1144388      OOJ  UNKNOWN  UNKNOWN            UNKNOWN    2008-01-02 20:53:00   \n",
      "\n",
      "        Offense End DateTime     Report DateTime   \n",
      "0                        NaT 2020-02-05 11:24:31  \\\n",
      "1        2020-02-04 08:00:00 2020-02-05 10:06:28   \n",
      "2        2020-02-02 21:30:00 2020-02-05 09:39:33   \n",
      "3        2020-02-05 02:21:00 2020-02-05 03:30:55   \n",
      "4                        NaT 2020-02-05 00:51:31   \n",
      "...                      ...                 ...   \n",
      "1144384  2008-01-07 00:00:00 2008-01-16 12:30:00   \n",
      "1144385  2008-01-08 16:00:00 2008-01-08 16:23:00   \n",
      "1144386                  NaT 2008-01-08 02:14:00   \n",
      "1144387                  NaT 2008-01-02 20:53:00   \n",
      "1144388                  NaT 2008-01-02 20:53:00   \n",
      "\n",
      "                                             Offense   Longitude   Latitude   \n",
      "0                           Drug/Narcotic Violations -122.385974  47.649387  \\\n",
      "1        Theft of Motor Vehicle Parts or Accessories -122.323399  47.675118   \n",
      "2                                            Robbery -122.299552  47.666384   \n",
      "3           Destruction/Damage/Vandalism of Property -122.384865  47.642927   \n",
      "4                        Driving Under the Influence -122.366195  47.662193   \n",
      "...                                              ...         ...        ...   \n",
      "1144384                                   Bad Checks -122.293381  47.456405   \n",
      "1144385   Credit Card/Automated Teller Machine Fraud    0.000000   0.000000   \n",
      "1144386                     Drug/Narcotic Violations -122.349976  47.490243   \n",
      "1144387                     Drug/Narcotic Violations -122.221719  47.500956   \n",
      "1144388                     Drug/Narcotic Violations -122.221719  47.500956   \n",
      "\n",
      "         Hour  Minute  Month    Year  \n",
      "0        10.0    10.0    2.0  2020.0  \n",
      "1         8.0     0.0    2.0  2020.0  \n",
      "2        20.0    30.0    2.0  2020.0  \n",
      "3         1.0    17.0    2.0  2020.0  \n",
      "4         0.0    51.0    2.0  2020.0  \n",
      "...       ...     ...    ...     ...  \n",
      "1144384   0.0     0.0    1.0  2008.0  \n",
      "1144385  12.0     0.0    1.0  2008.0  \n",
      "1144386   2.0    14.0    1.0  2008.0  \n",
      "1144387  20.0    53.0    1.0  2008.0  \n",
      "1144388  20.0    53.0    1.0  2008.0  \n",
      "\n",
      "[1144389 rows x 14 columns]\n",
      "0          False\n",
      "1          False\n",
      "2           True\n",
      "3          False\n",
      "4          False\n",
      "           ...  \n",
      "1144384    False\n",
      "1144385     True\n",
      "1144386    False\n",
      "1144387     True\n",
      "1144388     True\n",
      "Name: Offense Start DateTime, Length: 1144389, dtype: object\n"
     ]
    }
   ],
   "source": [
    "print(date_time_df)\n",
    "print(PM_checker)"
   ]
  },
  {
   "cell_type": "code",
   "execution_count": 17,
   "metadata": {},
   "outputs": [],
   "source": [
    "date_time_df['Hour'] = pd.to_numeric(date_time_df['Hour'], errors='coerce').astype('Int64') \n",
    "date_time_df['Minute'] = pd.to_numeric(date_time_df['Minute'], errors='coerce').astype('Int64') "
   ]
  },
  {
   "cell_type": "code",
   "execution_count": 18,
   "metadata": {},
   "outputs": [],
   "source": [
    "add_condition=date_time_df['Minute']>=30\n",
    "date_time_df.loc[add_condition,'Hour']+=1\n",
    "maxTimeCondition=date_time_df['Hour']==24\n",
    "date_time_df.loc[maxTimeCondition,'Hour']-=24"
   ]
  },
  {
   "cell_type": "code",
   "execution_count": 19,
   "metadata": {},
   "outputs": [],
   "source": [
    "# Count the number of rows where 'A' equals the value\n",
    "numberCounterArray=np.arange(24)\n",
    "HourSumArray=np.arange(24)\n",
    "for i in range(24):\n",
    "    HourSumArray[i] = (date_time_df['Hour'] == i).sum()"
   ]
  },
  {
   "cell_type": "code",
   "execution_count": 20,
   "metadata": {},
   "outputs": [
    {
     "name": "stdout",
     "output_type": "stream",
     "text": [
      "[103529  40196  36910  26965  22317  19558  19671  23836  35988  37284\n",
      "  39197  39336  64052  48334  49023  53748  56090  62566  65546  59960\n",
      "  63267  60505  61822  52969]\n"
     ]
    }
   ],
   "source": [
    "print(HourSumArray)"
   ]
  },
  {
   "cell_type": "code",
   "execution_count": 21,
   "metadata": {},
   "outputs": [
    {
     "data": {
      "image/png": "[encoded data removed]",
      "text/plain": [
       "<Figure size 460.8x345.6 with 1 Axes>"
      ]
     },
     "metadata": {},
     "output_type": "display_data"
    }
   ],
   "source": [
    "# Create a bar graph\n",
    "plt.bar(numberCounterArray, HourSumArray)\n",
    "\n",
    "# Add title and labels\n",
    "plt.title('Crimes since 2008, seperated by the hour it was committed')\n",
    "plt.xlabel('Hour')\n",
    "plt.ylabel('Number of Crimes')\n",
    "\n",
    "# Show the plot\n",
    "plt.show()"
   ]
  },
  {
   "cell_type": "code",
   "execution_count": 22,
   "metadata": {},
   "outputs": [],
   "source": [
    "violentCrimesArray=['Homicide','Rape','Robbery','Aggraved Assault']\n",
    "violentCrime_df=date_time_df[date_time_df['Offense'].isin(violentCrimesArray)]"
   ]
  },
  {
   "cell_type": "code",
   "execution_count": 23,
   "metadata": {},
   "outputs": [],
   "source": [
    "pettyTheftCrimesArray=['Theft From Building','Theft From Coin-Operated Machine or Device','Theft From Motor Vehicle', 'Thefts of Motor Vehicle Parts or Accessories','Shoplifting','Pocket-picking','Stolen Property Offenses','All Other Larceny','Purse-snatching']\n",
    "pettyPropertyCrimesArray=['Destruction/Damage/Vandalism of Property','Trespass of Real Property']\n",
    "pettyCrimesArray=['Curfew/Loitering/Vagrancy Violations']\n",
    "pettyScaryCrimesArray=['Drug Equipment Violations','Drug/Narcotic Violations','Drunkness','Kidnapping/Abduction','Weapon Violation Laws']\n",
    "pettyViolentCrimesArray=['Intimidation','Simple Assault']\n",
    "#propertyCrimesArray=['Arson','Burglary','Larceny-Theft','Motor Vehicle Theft']\n"
   ]
  },
  {
   "cell_type": "code",
   "execution_count": 24,
   "metadata": {},
   "outputs": [],
   "source": [
    "violentCrime_HourSumArray=np.arange(24)\n",
    "for i in range(24):\n",
    "    violentCrime_HourSumArray[i] = (violentCrime_df['Hour'] == i).sum()"
   ]
  },
  {
   "cell_type": "code",
   "execution_count": 25,
   "metadata": {},
   "outputs": [
    {
     "data": {
      "image/png": "[encoded data removed]",
      "text/plain": [
       "<Figure size 460.8x345.6 with 1 Axes>"
      ]
     },
     "metadata": {},
     "output_type": "display_data"
    }
   ],
   "source": [
    "# Create a bar graph\n",
    "plt.bar(numberCounterArray, violentCrime_HourSumArray)\n",
    "\n",
    "# Add title and labels\n",
    "plt.title('Violent Crimes since 2008, seperated by the hour it was committed')\n",
    "plt.xlabel('Hour')\n",
    "plt.ylabel('Number of Violent Crimes')\n",
    "\n",
    "# Show the plot\n",
    "plt.show()"
   ]
  },
  {
   "cell_type": "code",
   "execution_count": 26,
   "metadata": {},
   "outputs": [],
   "source": [
    "propertyCrimesArray=['Arson','Burglary','Larceny-Theft','Motor Vehicle Theft']\n",
    "propertyCrime_df=date_time_df[date_time_df['Offense'].isin(propertyCrimesArray)]"
   ]
  },
  {
   "cell_type": "code",
   "execution_count": 27,
   "metadata": {},
   "outputs": [],
   "source": [
    "propertyCrime_HourSumArray=np.arange(24)\n",
    "for i in range(24):\n",
    "    propertyCrime_HourSumArray[i] = (propertyCrime_df['Hour'] == i).sum()"
   ]
  },
  {
   "cell_type": "code",
   "execution_count": 28,
   "metadata": {},
   "outputs": [
    {
     "data": {
      "image/png": "[encoded data removed]",
      "text/plain": [
       "<Figure size 460.8x345.6 with 1 Axes>"
      ]
     },
     "metadata": {},
     "output_type": "display_data"
    }
   ],
   "source": [
    "# Create a bar graph\n",
    "plt.bar(numberCounterArray, propertyCrime_HourSumArray)\n",
    "\n",
    "# Add title and labels\n",
    "plt.title('Property Crimes since 2008, seperated by the hour it was committed')\n",
    "plt.xlabel('Hour')\n",
    "plt.ylabel('Number of Property Crimes')\n",
    "\n",
    "# Show the plot\n",
    "plt.show()"
   ]
  },
  {
   "cell_type": "code",
   "execution_count": 29,
   "metadata": {},
   "outputs": [],
   "source": [
    "monthCounterArray=np.arange(13)\n",
    "aggregateCrime_MonthSumArray=np.arange(13)\n",
    "violentCrime_MonthSumArray=np.arange(13)\n",
    "propertyCrime_MonthSumArray=np.arange(13)\n",
    "for i in range(13):\n",
    "    propertyCrime_MonthSumArray[i] = (propertyCrime_df['Month'] == i).sum()\n",
    "    aggregateCrime_MonthSumArray[i]=(date_time_df['Month']==i).sum()\n",
    "    violentCrime_MonthSumArray[i]=(violentCrime_df['Month']==i).sum()"
   ]
  },
  {
   "cell_type": "code",
   "execution_count": 30,
   "metadata": {},
   "outputs": [
    {
     "data": {
      "image/png": "[encoded data removed]",
      "text/plain": [
       "<Figure size 460.8x345.6 with 1 Axes>"
      ]
     },
     "metadata": {},
     "output_type": "display_data"
    }
   ],
   "source": [
    "# Create a bar graph\n",
    "plt.bar(monthCounterArray, propertyCrime_MonthSumArray)\n",
    "\n",
    "# Add title and labels\n",
    "plt.title('Property Crimes since 2008, seperated by the month it was committed')\n",
    "plt.xlabel('Month')\n",
    "plt.ylabel('Number of Property Crimes')\n",
    "\n",
    "# Show the plot\n",
    "plt.show()"
   ]
  },
  {
   "cell_type": "code",
   "execution_count": 31,
   "metadata": {},
   "outputs": [
    {
     "data": {
      "image/png": "[encoded data removed]",
      "text/plain": [
       "<Figure size 460.8x345.6 with 1 Axes>"
      ]
     },
     "metadata": {},
     "output_type": "display_data"
    }
   ],
   "source": [
    "# Create a bar graph\n",
    "plt.bar(monthCounterArray, violentCrime_MonthSumArray)\n",
    "\n",
    "# Add title and labels\n",
    "plt.title('Violent Crimes since 2008, seperated by the month it was committed')\n",
    "plt.xlabel('Month')\n",
    "plt.ylabel('Number of Property Crimes')\n",
    "\n",
    "# Show the plot\n",
    "plt.show()"
   ]
  },
  {
   "cell_type": "code",
   "execution_count": 32,
   "metadata": {},
   "outputs": [
    {
     "data": {
      "image/png": "[encoded data removed]",
      "text/plain": [
       "<Figure size 460.8x345.6 with 1 Axes>"
      ]
     },
     "metadata": {},
     "output_type": "display_data"
    }
   ],
   "source": [
    "# Create a bar graph\n",
    "plt.bar(monthCounterArray, aggregateCrime_MonthSumArray)\n",
    "\n",
    "# Add title and labels\n",
    "plt.title('Aggregate Crimes since 2008, seperated by the month it was committed')\n",
    "plt.xlabel('Month')\n",
    "plt.ylabel('Number of Property Crimes')\n",
    "\n",
    "# Show the plot\n",
    "plt.show()"
   ]
  },
  {
   "cell_type": "code",
   "execution_count": 33,
   "metadata": {},
   "outputs": [],
   "source": [
    "yearCounterArray=np.arange(18)\n",
    "aggregateCrime_YearSumArray=np.arange(18)\n",
    "violentCrime_YearSumArray=np.arange(18)\n",
    "propertyCrime_YearSumArray=np.arange(18)\n",
    "for i in range(17):\n",
    "    yearCounterArray[i]=i+2007\n",
    "    propertyCrime_YearSumArray[i] = (propertyCrime_df['Year'] ==yearCounterArray[i]).count()\n",
    "    aggregateCrime_YearSumArray[i]=(date_time_df['Year']==yearCounterArray[i]).count()\n",
    "    violentCrime_YearSumArray[i]=(violentCrime_df['Year']==yearCounterArray[i]).count()"
   ]
  },
  {
   "cell_type": "code",
   "execution_count": 34,
   "metadata": {},
   "outputs": [
    {
     "data": {
      "image/png": "[encoded data removed]",
      "text/plain": [
       "<Figure size 460.8x345.6 with 1 Axes>"
      ]
     },
     "metadata": {},
     "output_type": "display_data"
    }
   ],
   "source": [
    "# Create a bar graph\n",
    "plt.bar(yearCounterArray, propertyCrime_YearSumArray)\n",
    "\n",
    "# Add title and labels\n",
    "plt.title('Property Crimes since 2008, seperated by the year it was committed')\n",
    "plt.xlabel('Year')\n",
    "plt.ylabel('Number of Property Crimes')\n",
    "\n",
    "# Show the plot\n",
    "plt.show()"
   ]
  },
  {
   "cell_type": "code",
   "execution_count": 35,
   "metadata": {},
   "outputs": [
    {
     "data": {
      "image/png": "[encoded data removed]",
      "text/plain": [
       "<Figure size 460.8x345.6 with 1 Axes>"
      ]
     },
     "metadata": {},
     "output_type": "display_data"
    }
   ],
   "source": [
    "# Create a bar graph\n",
    "plt.bar(yearCounterArray, violentCrime_YearSumArray)\n",
    "\n",
    "# Add title and labels\n",
    "plt.title('Property Crimes since 2008, seperated by the year it was committed')\n",
    "plt.xlabel('Year')\n",
    "plt.ylabel('Number of Property Crimes')\n",
    "\n",
    "# Show the plot\n",
    "plt.show()"
   ]
  },
  {
   "cell_type": "code",
   "execution_count": 36,
   "metadata": {},
   "outputs": [
    {
     "data": {
      "image/png": "[encoded data removed]",
      "text/plain": [
       "<Figure size 460.8x345.6 with 1 Axes>"
      ]
     },
     "metadata": {},
     "output_type": "display_data"
    }
   ],
   "source": [
    "# Create a bar graph\n",
    "plt.bar(yearCounterArray, aggregateCrime_YearSumArray)\n",
    "\n",
    "# Add title and labels\n",
    "plt.title('Property Crimes since 2008, seperated by the year it was committed')\n",
    "plt.xlabel('Year')\n",
    "plt.ylabel('Number of Property Crimes')\n",
    "\n",
    "# Show the plot\n",
    "plt.show()"
   ]
  },
  {
   "cell_type": "code",
   "execution_count": 37,
   "metadata": {},
   "outputs": [],
   "source": [
    "#MCPP filters\n",
    "MCPPFilter=['Bitterlake','Queen Anne','Northgate','Pioneer Square','Ballard South','Belltown','Downtown Commercial','First Hill','Chinatown/International District']\n",
    "MCPPFilterCondition=date_time_df['MCPP'].isin(MCPPFilter)\n",
    "#Precinct filters\n",
    "PrecinctFilter=['E','W','N']\n",
    "PrecinctFilterCondition=date_time_df['Precinct'].isin(PrecinctFilter)\n",
    "#beat filters\n",
    "BeatFilter=['K3','E3','D3','D1','M1','K1','B1','B3','N2','Q3']\n",
    "BeatFilterCondition=date_time_df['Beat'].isin(BeatFilter)\n",
    "#sector filters\n",
    "SectorFilter=['N','Q','K','B','D','M','E']\n",
    "SectorFilterCondition=date_time_df['Sector'].isin(SectorFilter)\n"
   ]
  },
  {
   "cell_type": "code",
   "execution_count": 165,
   "metadata": {},
   "outputs": [
    {
     "name": "stdout",
     "output_type": "stream",
     "text": [
      "['2021-01-01\\n', '2024-01-01\\n', '47.675510\\n', '-122.375820\\n', '5\\n', 'month\\n', 'aggregate\\n', 'Toft Terrace']\n"
     ]
    }
   ],
   "source": [
    "txtfile=open(\"C:/Users/NGong/OneDrive - Eastside Preparatory School/Documents/IS stuff/toftTerrace.txt\",\"r\")\n",
    "with txtfile as file:\n",
    "    lines=file.readlines()\n",
    "startFilter=lines[0]\n",
    "startFilter = startFilter[:-1]\n",
    "endFilter=lines[1]\n",
    "endFilter = endFilter[:-1]\n",
    "latitude=lines[2]\n",
    "latitude=latitude[:-1]\n",
    "longitude=lines[3]\n",
    "longitude=longitude[:-1]\n",
    "HundredsMeterRadius=lines[4]\n",
    "timeFrequency=lines[5]\n",
    "timeFrequency=timeFrequency[:-1]\n",
    "crimeType=lines[6]\n",
    "crimeType = crimeType[:-1]\n",
    "startFilter=pd.to_datetime(startFilter)\n",
    "endFilter=pd.to_datetime(endFilter)\n",
    "latitude=float(latitude)\n",
    "longitude=float(longitude)\n",
    "HundredsMeterRadius=int(HundredsMeterRadius)\n",
    "timeFrequency=str(timeFrequency)\n",
    "print(lines)"
   ]
  },
  {
   "cell_type": "code",
   "execution_count": 166,
   "metadata": {},
   "outputs": [],
   "source": [
    "date_time_df['Violent Crimes']=date_time_df['Offense'].where(date_time_df['Offense'].isin(violentCrimesArray))\n",
    "date_time_df['Property Crime']=date_time_df['Offense'].where(date_time_df['Offense'].isin(propertyCrimesArray))\n",
    "date_time_df['Petty Crime']=date_time_df['Offense'].where(date_time_df['Offense'].isin(pettyCrimesArray))\n",
    "date_time_df['Petty Property Crime']=date_time_df['Offense'].where(date_time_df['Offense'].isin(pettyPropertyCrimesArray))\n",
    "date_time_df['Petty Scary Crime']=date_time_df['Offense'].where(date_time_df['Offense'].isin(pettyScaryCrimesArray))\n",
    "date_time_df['Petty Theft Crime']=date_time_df['Offense'].where(date_time_df['Offense'].isin(pettyTheftCrimesArray))\n",
    "date_time_df['Petty Violent Crime']=date_time_df['Offense'].where(date_time_df['Offense'].isin(pettyViolentCrimesArray))"
   ]
  },
  {
   "cell_type": "code",
   "execution_count": 167,
   "metadata": {},
   "outputs": [
    {
     "name": "stdout",
     "output_type": "stream",
     "text": [
      "        Precinct Sector Beat           MCPP Offense Start DateTime   \n",
      "853391         N      B   B1  BALLARD SOUTH    2021-04-06 14:34:00  \\\n",
      "854345         N      B   B1  BALLARD SOUTH    2021-04-21 00:00:00   \n",
      "855248         N      B   B1  BALLARD SOUTH    2021-04-29 00:00:00   \n",
      "857289         N      B   B1  BALLARD SOUTH    2021-05-14 12:30:00   \n",
      "858128         N      J   J2  BALLARD NORTH    2021-05-19 08:00:00   \n",
      "...          ...    ...  ...            ...                    ...   \n",
      "1090071        N      B   B1  BALLARD SOUTH    2023-12-01 00:00:00   \n",
      "1090091        N      B   B1  BALLARD SOUTH    2023-11-26 13:35:00   \n",
      "1095691        N      J   J2  BALLARD NORTH    2023-12-28 18:10:00   \n",
      "1096974        N      B   B1  BALLARD SOUTH    2023-12-11 10:30:00   \n",
      "1096975        N      B   B1  BALLARD SOUTH    2023-12-11 10:30:00   \n",
      "\n",
      "        Offense End DateTime     Report DateTime   \n",
      "853391   2021-04-06 21:00:00 2021-04-13 07:05:04  \\\n",
      "854345   2021-04-21 00:00:00 2021-04-23 13:59:19   \n",
      "855248   2021-05-01 00:00:00 2021-05-01 03:09:57   \n",
      "857289   2021-05-15 17:00:00 2021-05-19 07:54:53   \n",
      "858128   2021-05-20 20:00:00 2021-05-22 09:15:16   \n",
      "...                      ...                 ...   \n",
      "1090071  2023-12-01 00:00:00 2023-12-01 12:19:30   \n",
      "1090091  2023-11-26 17:00:00 2023-12-01 10:02:28   \n",
      "1095691  2023-12-29 06:00:00 2024-01-02 22:03:10   \n",
      "1096974  2023-12-11 10:30:00 2023-12-11 13:23:35   \n",
      "1096975  2023-12-11 10:30:00 2023-12-11 13:23:35   \n",
      "\n",
      "                                             Offense   Longitude   Latitude   \n",
      "853391                             All Other Larceny -122.374894  47.674546  \\\n",
      "854345                      Theft From Motor Vehicle -122.374894  47.674546   \n",
      "855248                                  Intimidation -122.374894  47.673817   \n",
      "857289                           Theft From Building -122.374894  47.674546   \n",
      "858128                  Burglary/Breaking & Entering -122.376761  47.676822   \n",
      "...                                              ...         ...        ...   \n",
      "1090071                                 Intimidation -122.376211  47.675636   \n",
      "1090091                          Theft From Building -122.376211  47.674914   \n",
      "1095691  Theft of Motor Vehicle Parts or Accessories -122.376761  47.676822   \n",
      "1096974                            All Other Larceny -122.374978  47.675949   \n",
      "1096975                    Trespass of Real Property -122.374978  47.675949   \n",
      "\n",
      "         Hour  Minute  Month    Year Violent Crimes Property Crime   \n",
      "853391     15      34    4.0  2021.0            NaN            NaN  \\\n",
      "854345      0       0    4.0  2021.0            NaN            NaN   \n",
      "855248      0       0    4.0  2021.0            NaN            NaN   \n",
      "857289     13      30    5.0  2021.0            NaN            NaN   \n",
      "858128      8       0    5.0  2021.0            NaN            NaN   \n",
      "...       ...     ...    ...     ...            ...            ...   \n",
      "1090071     0       0   12.0  2023.0            NaN            NaN   \n",
      "1090091    14      35   11.0  2023.0            NaN            NaN   \n",
      "1095691    18      10   12.0  2023.0            NaN            NaN   \n",
      "1096974    11      30   12.0  2023.0            NaN            NaN   \n",
      "1096975    11      30   12.0  2023.0            NaN            NaN   \n",
      "\n",
      "        Petty Crime       Petty Property Crime Petty Scary Crime   \n",
      "853391          NaN                        NaN               NaN  \\\n",
      "854345          NaN                        NaN               NaN   \n",
      "855248          NaN                        NaN               NaN   \n",
      "857289          NaN                        NaN               NaN   \n",
      "858128          NaN                        NaN               NaN   \n",
      "...             ...                        ...               ...   \n",
      "1090071         NaN                        NaN               NaN   \n",
      "1090091         NaN                        NaN               NaN   \n",
      "1095691         NaN                        NaN               NaN   \n",
      "1096974         NaN                        NaN               NaN   \n",
      "1096975         NaN  Trespass of Real Property               NaN   \n",
      "\n",
      "                Petty Theft Crime Petty Violent Crime  \n",
      "853391          All Other Larceny                 NaN  \n",
      "854345   Theft From Motor Vehicle                 NaN  \n",
      "855248                        NaN        Intimidation  \n",
      "857289        Theft From Building                 NaN  \n",
      "858128                        NaN                 NaN  \n",
      "...                           ...                 ...  \n",
      "1090071                       NaN        Intimidation  \n",
      "1090091       Theft From Building                 NaN  \n",
      "1095691                       NaN                 NaN  \n",
      "1096974         All Other Larceny                 NaN  \n",
      "1096975                       NaN                 NaN  \n",
      "\n",
      "[138 rows x 21 columns]\n"
     ]
    }
   ],
   "source": [
    "filteredTime_df=date_time_df[(date_time_df['Offense Start DateTime'] >= startFilter) & (date_time_df['Offense End DateTime'] <= endFilter)]\n",
    "LocationLatitudeCondition=(date_time_df['Latitude']>=latitude-HundredsMeterRadius/2882) & (date_time_df['Latitude']<=latitude+HundredsMeterRadius/2882)\n",
    "LocationLongitudeCondition=(date_time_df['Longitude']>=longitude-HundredsMeterRadius/2882) & (date_time_df['Longitude']<=longitude+HundredsMeterRadius/2882)\n",
    "LocationCondition=LocationLatitudeCondition&LocationLongitudeCondition\n",
    "LocationTime_df=filteredTime_df[LocationCondition]\n",
    "print(LocationTime_df)"
   ]
  },
  {
   "cell_type": "code",
   "execution_count": 182,
   "metadata": {},
   "outputs": [
    {
     "name": "stdout",
     "output_type": "stream",
     "text": [
      "JAI SHARMA\n",
      "super cool\n",
      "        Precinct Sector Beat           MCPP Offense Start DateTime   \n",
      "853391         N      B   B1  BALLARD SOUTH    2021-04-06 14:34:00  \\\n",
      "854345         N      B   B1  BALLARD SOUTH    2021-04-21 00:00:00   \n",
      "855248         N      B   B1  BALLARD SOUTH    2021-04-29 00:00:00   \n",
      "857289         N      B   B1  BALLARD SOUTH    2021-05-14 12:30:00   \n",
      "858128         N      J   J2  BALLARD NORTH    2021-05-19 08:00:00   \n",
      "...          ...    ...  ...            ...                    ...   \n",
      "1090071        N      B   B1  BALLARD SOUTH    2023-12-01 00:00:00   \n",
      "1090091        N      B   B1  BALLARD SOUTH    2023-11-26 13:35:00   \n",
      "1095691        N      J   J2  BALLARD NORTH    2023-12-28 18:10:00   \n",
      "1096974        N      B   B1  BALLARD SOUTH    2023-12-11 10:30:00   \n",
      "1096975        N      B   B1  BALLARD SOUTH    2023-12-11 10:30:00   \n",
      "\n",
      "        Offense End DateTime     Report DateTime   \n",
      "853391   2021-04-06 21:00:00 2021-04-13 07:05:04  \\\n",
      "854345   2021-04-21 00:00:00 2021-04-23 13:59:19   \n",
      "855248   2021-05-01 00:00:00 2021-05-01 03:09:57   \n",
      "857289   2021-05-15 17:00:00 2021-05-19 07:54:53   \n",
      "858128   2021-05-20 20:00:00 2021-05-22 09:15:16   \n",
      "...                      ...                 ...   \n",
      "1090071  2023-12-01 00:00:00 2023-12-01 12:19:30   \n",
      "1090091  2023-11-26 17:00:00 2023-12-01 10:02:28   \n",
      "1095691  2023-12-29 06:00:00 2024-01-02 22:03:10   \n",
      "1096974  2023-12-11 10:30:00 2023-12-11 13:23:35   \n",
      "1096975  2023-12-11 10:30:00 2023-12-11 13:23:35   \n",
      "\n",
      "                                             Offense   Longitude   Latitude   \n",
      "853391                             All Other Larceny -122.374894  47.674546  \\\n",
      "854345                      Theft From Motor Vehicle -122.374894  47.674546   \n",
      "855248                                  Intimidation -122.374894  47.673817   \n",
      "857289                           Theft From Building -122.374894  47.674546   \n",
      "858128                  Burglary/Breaking & Entering -122.376761  47.676822   \n",
      "...                                              ...         ...        ...   \n",
      "1090071                                 Intimidation -122.376211  47.675636   \n",
      "1090091                          Theft From Building -122.376211  47.674914   \n",
      "1095691  Theft of Motor Vehicle Parts or Accessories -122.376761  47.676822   \n",
      "1096974                            All Other Larceny -122.374978  47.675949   \n",
      "1096975                    Trespass of Real Property -122.374978  47.675949   \n",
      "\n",
      "         Hour  Minute  Month    Year Violent Crimes Property Crime   \n",
      "853391     15      34    4.0  2021.0            NaN            NaN  \\\n",
      "854345      0       0    4.0  2021.0            NaN            NaN   \n",
      "855248      0       0    4.0  2021.0            NaN            NaN   \n",
      "857289     13      30    5.0  2021.0            NaN            NaN   \n",
      "858128      8       0    5.0  2021.0            NaN            NaN   \n",
      "...       ...     ...    ...     ...            ...            ...   \n",
      "1090071     0       0   12.0  2023.0            NaN            NaN   \n",
      "1090091    14      35   11.0  2023.0            NaN            NaN   \n",
      "1095691    18      10   12.0  2023.0            NaN            NaN   \n",
      "1096974    11      30   12.0  2023.0            NaN            NaN   \n",
      "1096975    11      30   12.0  2023.0            NaN            NaN   \n",
      "\n",
      "        Petty Crime       Petty Property Crime Petty Scary Crime   \n",
      "853391          NaN                        NaN               NaN  \\\n",
      "854345          NaN                        NaN               NaN   \n",
      "855248          NaN                        NaN               NaN   \n",
      "857289          NaN                        NaN               NaN   \n",
      "858128          NaN                        NaN               NaN   \n",
      "...             ...                        ...               ...   \n",
      "1090071         NaN                        NaN               NaN   \n",
      "1090091         NaN                        NaN               NaN   \n",
      "1095691         NaN                        NaN               NaN   \n",
      "1096974         NaN                        NaN               NaN   \n",
      "1096975         NaN  Trespass of Real Property               NaN   \n",
      "\n",
      "                Petty Theft Crime Petty Violent Crime month_year  \n",
      "853391          All Other Larceny                 NaN    2021-04  \n",
      "854345   Theft From Motor Vehicle                 NaN    2021-04  \n",
      "855248                        NaN        Intimidation    2021-04  \n",
      "857289        Theft From Building                 NaN    2021-05  \n",
      "858128                        NaN                 NaN    2021-05  \n",
      "...                           ...                 ...        ...  \n",
      "1090071                       NaN        Intimidation    2023-12  \n",
      "1090091       Theft From Building                 NaN    2023-11  \n",
      "1095691                       NaN                 NaN    2023-12  \n",
      "1096974         All Other Larceny                 NaN    2023-12  \n",
      "1096975                       NaN                 NaN    2023-12  \n",
      "\n",
      "[138 rows x 22 columns]\n",
      "womp womp\n",
      "aggregate\n",
      "   month_year  Offense\n",
      "0     2021-01        3\n",
      "1     2021-02        3\n",
      "2     2021-03        3\n",
      "3     2021-04        8\n",
      "4     2021-05        5\n",
      "5     2021-06        4\n",
      "6     2021-07        3\n",
      "7     2021-08        3\n",
      "8     2021-09        2\n",
      "9     2021-10        6\n",
      "10    2021-11        5\n",
      "11    2021-12        3\n",
      "12    2022-01        2\n",
      "13    2022-02        8\n",
      "14    2022-03        1\n",
      "15    2022-04        1\n",
      "16    2022-05        2\n",
      "17    2022-07        3\n",
      "18    2022-08        2\n",
      "19    2022-09        3\n",
      "20    2022-10        5\n",
      "21    2022-11        4\n",
      "22    2022-12        6\n",
      "23    2023-01        4\n",
      "24    2023-02        4\n",
      "25    2023-04        4\n",
      "26    2023-05        4\n",
      "27    2023-06        3\n",
      "28    2023-07        7\n",
      "29    2023-08        4\n",
      "30    2023-09        5\n",
      "31    2023-10        4\n",
      "32    2023-11        3\n",
      "33    2023-12       11\n",
      "  month_year  0\n",
      "0    2021-01  3\n",
      "1    2021-02  3\n",
      "2    2021-03  3\n",
      "3    2021-04  8\n",
      "4    2021-05  5\n",
      "0     2021-01\n",
      "1     2021-02\n",
      "2     2021-03\n",
      "3     2021-04\n",
      "4     2021-05\n",
      "5     2021-06\n",
      "6     2021-07\n",
      "7     2021-08\n",
      "8     2021-09\n",
      "9     2021-10\n",
      "10    2021-11\n",
      "11    2021-12\n",
      "12    2022-01\n",
      "13    2022-02\n",
      "14    2022-03\n",
      "15    2022-04\n",
      "16    2022-05\n",
      "17    2022-07\n",
      "18    2022-08\n",
      "19    2022-09\n",
      "20    2022-10\n",
      "21    2022-11\n",
      "22    2022-12\n",
      "23    2023-01\n",
      "24    2023-02\n",
      "25    2023-04\n",
      "26    2023-05\n",
      "27    2023-06\n",
      "28    2023-07\n",
      "29    2023-08\n",
      "30    2023-09\n",
      "31    2023-10\n",
      "32    2023-11\n",
      "33    2023-12\n",
      "Name: month_year, dtype: period[M]\n",
      "<class 'pandas.core.series.Series'>\n"
     ]
    }
   ],
   "source": [
    "# Create a new column for month-year for grouping\n",
    "if timeFrequency==\"month\":\n",
    "    print('JAI SHARMA')\n",
    "    LocationTime_df['month_year'] = LocationTime_df['Offense Start DateTime'].dt.to_period('M')\n",
    "    print('super cool')\n",
    "    print(LocationTime_df)\n",
    "if timeFrequency==\"year\":\n",
    "    LocationTime_df['month_year'] = LocationTime_df['Offense Start DateTime'].dt.to_period('Y')\n",
    "if timeFrequency==\"day\":\n",
    "    LocationTime_df['month_year'] = LocationTime_df['Offense Start DateTime'].dt.to_period('D')\n",
    "else:\n",
    "    print('womp womp')\n",
    "\n",
    "\n",
    "\n",
    "# Group by month-year and calculate the sum (or mean, count, etc.) of the values\n",
    "if crimeType=='violent':\n",
    "    print('violent')\n",
    "    LocationTime_df=LocationTime_df.dropna(subset=[\"Violent Crimes\"])\n",
    "    monthly_crimes = LocationTime_df.groupby('month_year').size().reset_index(name='Violent Crimes')\n",
    "if crimeType=='property': \n",
    "    print('property')   \n",
    "    LocationTime_df=LocationTime_df.dropna(subset=[\"Property Crimes\"])\n",
    "    monthly_crimes = LocationTime_df.groupby('month_year').size().reset_index(name='Property Crimes')\n",
    "if crimeType=='aggregate':\n",
    "    print('aggregate')\n",
    "    monthly_crimes = LocationTime_df.groupby('month_year').size().reset_index(name='Offense')\n",
    "print(monthly_crimes)\n",
    "\n",
    "#making sure that time_crime does have the dropped values for months where there are no violent or property crimes\n",
    "if 'month_year' in LocationTime_df.columns:\n",
    "    time_crimes = LocationTime_df.groupby('month_year').size().reset_index()\n",
    "    print(time_crimes.head(5))\n",
    "else:\n",
    "    print(\"The column 'month_year' does not exist.\")\n",
    "print(time_crimes['month_year'])\n",
    "#print(monthly_crimes['month_year'])\n",
    "\n",
    "# Convert month_year back to datetime for plotting. Note that I'm using time_crimes since monthly_crimes becomes goofy with by seperating violent, property, and aggregate offenses\n",
    "time_crimes['month_year'] = time_crimes['month_year'].dt.to_timestamp()\n",
    "print(type(time_crimes['month_year']))\n",
    "\n"
   ]
  },
  {
   "cell_type": "code",
   "execution_count": 177,
   "metadata": {},
   "outputs": [
    {
     "name": "stdout",
     "output_type": "stream",
     "text": [
      "   month_year   0\n",
      "0  2021-01-01   3\n",
      "1  2021-02-01   3\n",
      "2  2021-03-01   3\n",
      "3  2021-04-01   8\n",
      "4  2021-05-01   5\n",
      "5  2021-06-01   4\n",
      "6  2021-07-01   3\n",
      "7  2021-08-01   3\n",
      "8  2021-09-01   2\n",
      "9  2021-10-01   6\n",
      "10 2021-11-01   5\n",
      "11 2021-12-01   3\n",
      "12 2022-01-01   2\n",
      "13 2022-02-01   8\n",
      "14 2022-03-01   1\n",
      "15 2022-04-01   1\n",
      "16 2022-05-01   2\n",
      "17 2022-07-01   3\n",
      "18 2022-08-01   2\n",
      "19 2022-09-01   3\n",
      "20 2022-10-01   5\n",
      "21 2022-11-01   4\n",
      "22 2022-12-01   6\n",
      "23 2023-01-01   4\n",
      "24 2023-02-01   4\n",
      "25 2023-04-01   4\n",
      "26 2023-05-01   4\n",
      "27 2023-06-01   3\n",
      "28 2023-07-01   7\n",
      "29 2023-08-01   4\n",
      "30 2023-09-01   5\n",
      "31 2023-10-01   4\n",
      "32 2023-11-01   3\n",
      "33 2023-12-01  11\n"
     ]
    },
    {
     "ename": "TypeError",
     "evalue": "float() argument must be a string or a real number, not 'Period'",
     "output_type": "error",
     "traceback": [
      "\u001b[1;31m---------------------------------------------------------------------------\u001b[0m",
      "\u001b[1;31mTypeError\u001b[0m                                 Traceback (most recent call last)",
      "Cell \u001b[1;32mIn[177], line 9\u001b[0m\n\u001b[0;32m      7\u001b[0m homelessShelterName\u001b[38;5;241m=\u001b[39mlines[\u001b[38;5;241m7\u001b[39m]\n\u001b[0;32m      8\u001b[0m plt\u001b[38;5;241m.\u001b[39mfigure(figsize\u001b[38;5;241m=\u001b[39m(\u001b[38;5;241m12\u001b[39m, \u001b[38;5;241m6\u001b[39m))\n\u001b[1;32m----> 9\u001b[0m \u001b[43mplt\u001b[49m\u001b[38;5;241;43m.\u001b[39;49m\u001b[43mplot\u001b[49m\u001b[43m(\u001b[49m\u001b[43mtime_crimes\u001b[49m\u001b[43m[\u001b[49m\u001b[38;5;124;43m'\u001b[39;49m\u001b[38;5;124;43mmonth_year\u001b[39;49m\u001b[38;5;124;43m'\u001b[39;49m\u001b[43m]\u001b[49m\u001b[43m,\u001b[49m\u001b[43m \u001b[49m\u001b[43mmonthly_crimes\u001b[49m\u001b[43m,\u001b[49m\u001b[43m \u001b[49m\u001b[43mmarker\u001b[49m\u001b[38;5;241;43m=\u001b[39;49m\u001b[38;5;124;43m'\u001b[39;49m\u001b[38;5;124;43mo\u001b[39;49m\u001b[38;5;124;43m'\u001b[39;49m\u001b[43m)\u001b[49m\n\u001b[0;32m     10\u001b[0m plt\u001b[38;5;241m.\u001b[39mtitle(\u001b[38;5;124m'\u001b[39m\u001b[38;5;124mData of crime between in \u001b[39m\u001b[38;5;124m'\u001b[39m\u001b[38;5;241m+\u001b[39mhomelessShelterName\u001b[38;5;241m+\u001b[39m\u001b[38;5;124m'\u001b[39m\u001b[38;5;124m \u001b[39m\u001b[38;5;124m'\u001b[39m\u001b[38;5;241m+\u001b[39mstartFilter\u001b[38;5;241m+\u001b[39m\u001b[38;5;124m'\u001b[39m\u001b[38;5;124mto\u001b[39m\u001b[38;5;124m'\u001b[39m \u001b[38;5;241m+\u001b[39mendFilter)\n\u001b[0;32m     11\u001b[0m plt\u001b[38;5;241m.\u001b[39mxlabel(\u001b[38;5;124m'\u001b[39m\u001b[38;5;124mMonth\u001b[39m\u001b[38;5;124m'\u001b[39m)\n",
      "File \u001b[1;32mc:\\Users\\NGong\\AppData\\Local\\Programs\\Python\\Python310\\lib\\site-packages\\matplotlib\\pyplot.py:2812\u001b[0m, in \u001b[0;36mplot\u001b[1;34m(scalex, scaley, data, *args, **kwargs)\u001b[0m\n\u001b[0;32m   2810\u001b[0m \u001b[38;5;129m@_copy_docstring_and_deprecators\u001b[39m(Axes\u001b[38;5;241m.\u001b[39mplot)\n\u001b[0;32m   2811\u001b[0m \u001b[38;5;28;01mdef\u001b[39;00m \u001b[38;5;21mplot\u001b[39m(\u001b[38;5;241m*\u001b[39margs, scalex\u001b[38;5;241m=\u001b[39m\u001b[38;5;28;01mTrue\u001b[39;00m, scaley\u001b[38;5;241m=\u001b[39m\u001b[38;5;28;01mTrue\u001b[39;00m, data\u001b[38;5;241m=\u001b[39m\u001b[38;5;28;01mNone\u001b[39;00m, \u001b[38;5;241m*\u001b[39m\u001b[38;5;241m*\u001b[39mkwargs):\n\u001b[1;32m-> 2812\u001b[0m     \u001b[38;5;28;01mreturn\u001b[39;00m gca()\u001b[38;5;241m.\u001b[39mplot(\n\u001b[0;32m   2813\u001b[0m         \u001b[38;5;241m*\u001b[39margs, scalex\u001b[38;5;241m=\u001b[39mscalex, scaley\u001b[38;5;241m=\u001b[39mscaley,\n\u001b[0;32m   2814\u001b[0m         \u001b[38;5;241m*\u001b[39m\u001b[38;5;241m*\u001b[39m({\u001b[38;5;124m\"\u001b[39m\u001b[38;5;124mdata\u001b[39m\u001b[38;5;124m\"\u001b[39m: data} \u001b[38;5;28;01mif\u001b[39;00m data \u001b[38;5;129;01mis\u001b[39;00m \u001b[38;5;129;01mnot\u001b[39;00m \u001b[38;5;28;01mNone\u001b[39;00m \u001b[38;5;28;01melse\u001b[39;00m {}), \u001b[38;5;241m*\u001b[39m\u001b[38;5;241m*\u001b[39mkwargs)\n",
      "File \u001b[1;32mc:\\Users\\NGong\\AppData\\Local\\Programs\\Python\\Python310\\lib\\site-packages\\matplotlib\\axes\\_axes.py:1690\u001b[0m, in \u001b[0;36mAxes.plot\u001b[1;34m(self, scalex, scaley, data, *args, **kwargs)\u001b[0m\n\u001b[0;32m   1688\u001b[0m lines \u001b[38;5;241m=\u001b[39m [\u001b[38;5;241m*\u001b[39m\u001b[38;5;28mself\u001b[39m\u001b[38;5;241m.\u001b[39m_get_lines(\u001b[38;5;241m*\u001b[39margs, data\u001b[38;5;241m=\u001b[39mdata, \u001b[38;5;241m*\u001b[39m\u001b[38;5;241m*\u001b[39mkwargs)]\n\u001b[0;32m   1689\u001b[0m \u001b[38;5;28;01mfor\u001b[39;00m line \u001b[38;5;129;01min\u001b[39;00m lines:\n\u001b[1;32m-> 1690\u001b[0m     \u001b[38;5;28;43mself\u001b[39;49m\u001b[38;5;241;43m.\u001b[39;49m\u001b[43madd_line\u001b[49m\u001b[43m(\u001b[49m\u001b[43mline\u001b[49m\u001b[43m)\u001b[49m\n\u001b[0;32m   1691\u001b[0m \u001b[38;5;28;01mif\u001b[39;00m scalex:\n\u001b[0;32m   1692\u001b[0m     \u001b[38;5;28mself\u001b[39m\u001b[38;5;241m.\u001b[39m_request_autoscale_view(\u001b[38;5;124m\"\u001b[39m\u001b[38;5;124mx\u001b[39m\u001b[38;5;124m\"\u001b[39m)\n",
      "File \u001b[1;32mc:\\Users\\NGong\\AppData\\Local\\Programs\\Python\\Python310\\lib\\site-packages\\matplotlib\\axes\\_base.py:2304\u001b[0m, in \u001b[0;36m_AxesBase.add_line\u001b[1;34m(self, line)\u001b[0m\n\u001b[0;32m   2301\u001b[0m \u001b[38;5;28;01mif\u001b[39;00m line\u001b[38;5;241m.\u001b[39mget_clip_path() \u001b[38;5;129;01mis\u001b[39;00m \u001b[38;5;28;01mNone\u001b[39;00m:\n\u001b[0;32m   2302\u001b[0m     line\u001b[38;5;241m.\u001b[39mset_clip_path(\u001b[38;5;28mself\u001b[39m\u001b[38;5;241m.\u001b[39mpatch)\n\u001b[1;32m-> 2304\u001b[0m \u001b[38;5;28;43mself\u001b[39;49m\u001b[38;5;241;43m.\u001b[39;49m\u001b[43m_update_line_limits\u001b[49m\u001b[43m(\u001b[49m\u001b[43mline\u001b[49m\u001b[43m)\u001b[49m\n\u001b[0;32m   2305\u001b[0m \u001b[38;5;28;01mif\u001b[39;00m \u001b[38;5;129;01mnot\u001b[39;00m line\u001b[38;5;241m.\u001b[39mget_label():\n\u001b[0;32m   2306\u001b[0m     line\u001b[38;5;241m.\u001b[39mset_label(\u001b[38;5;124mf\u001b[39m\u001b[38;5;124m'\u001b[39m\u001b[38;5;124m_child\u001b[39m\u001b[38;5;132;01m{\u001b[39;00m\u001b[38;5;28mlen\u001b[39m(\u001b[38;5;28mself\u001b[39m\u001b[38;5;241m.\u001b[39m_children)\u001b[38;5;132;01m}\u001b[39;00m\u001b[38;5;124m'\u001b[39m)\n",
      "File \u001b[1;32mc:\\Users\\NGong\\AppData\\Local\\Programs\\Python\\Python310\\lib\\site-packages\\matplotlib\\axes\\_base.py:2327\u001b[0m, in \u001b[0;36m_AxesBase._update_line_limits\u001b[1;34m(self, line)\u001b[0m\n\u001b[0;32m   2323\u001b[0m \u001b[38;5;28;01mdef\u001b[39;00m \u001b[38;5;21m_update_line_limits\u001b[39m(\u001b[38;5;28mself\u001b[39m, line):\n\u001b[0;32m   2324\u001b[0m \u001b[38;5;250m    \u001b[39m\u001b[38;5;124;03m\"\"\"\u001b[39;00m\n\u001b[0;32m   2325\u001b[0m \u001b[38;5;124;03m    Figures out the data limit of the given line, updating self.dataLim.\u001b[39;00m\n\u001b[0;32m   2326\u001b[0m \u001b[38;5;124;03m    \"\"\"\u001b[39;00m\n\u001b[1;32m-> 2327\u001b[0m     path \u001b[38;5;241m=\u001b[39m \u001b[43mline\u001b[49m\u001b[38;5;241;43m.\u001b[39;49m\u001b[43mget_path\u001b[49m\u001b[43m(\u001b[49m\u001b[43m)\u001b[49m\n\u001b[0;32m   2328\u001b[0m     \u001b[38;5;28;01mif\u001b[39;00m path\u001b[38;5;241m.\u001b[39mvertices\u001b[38;5;241m.\u001b[39msize \u001b[38;5;241m==\u001b[39m \u001b[38;5;241m0\u001b[39m:\n\u001b[0;32m   2329\u001b[0m         \u001b[38;5;28;01mreturn\u001b[39;00m\n",
      "File \u001b[1;32mc:\\Users\\NGong\\AppData\\Local\\Programs\\Python\\Python310\\lib\\site-packages\\matplotlib\\lines.py:1029\u001b[0m, in \u001b[0;36mLine2D.get_path\u001b[1;34m(self)\u001b[0m\n\u001b[0;32m   1027\u001b[0m \u001b[38;5;250m\u001b[39m\u001b[38;5;124;03m\"\"\"Return the `~matplotlib.path.Path` associated with this line.\"\"\"\u001b[39;00m\n\u001b[0;32m   1028\u001b[0m \u001b[38;5;28;01mif\u001b[39;00m \u001b[38;5;28mself\u001b[39m\u001b[38;5;241m.\u001b[39m_invalidy \u001b[38;5;129;01mor\u001b[39;00m \u001b[38;5;28mself\u001b[39m\u001b[38;5;241m.\u001b[39m_invalidx:\n\u001b[1;32m-> 1029\u001b[0m     \u001b[38;5;28;43mself\u001b[39;49m\u001b[38;5;241;43m.\u001b[39;49m\u001b[43mrecache\u001b[49m\u001b[43m(\u001b[49m\u001b[43m)\u001b[49m\n\u001b[0;32m   1030\u001b[0m \u001b[38;5;28;01mreturn\u001b[39;00m \u001b[38;5;28mself\u001b[39m\u001b[38;5;241m.\u001b[39m_path\n",
      "File \u001b[1;32mc:\\Users\\NGong\\AppData\\Local\\Programs\\Python\\Python310\\lib\\site-packages\\matplotlib\\lines.py:662\u001b[0m, in \u001b[0;36mLine2D.recache\u001b[1;34m(self, always)\u001b[0m\n\u001b[0;32m    660\u001b[0m \u001b[38;5;28;01mif\u001b[39;00m always \u001b[38;5;129;01mor\u001b[39;00m \u001b[38;5;28mself\u001b[39m\u001b[38;5;241m.\u001b[39m_invalidy:\n\u001b[0;32m    661\u001b[0m     yconv \u001b[38;5;241m=\u001b[39m \u001b[38;5;28mself\u001b[39m\u001b[38;5;241m.\u001b[39mconvert_yunits(\u001b[38;5;28mself\u001b[39m\u001b[38;5;241m.\u001b[39m_yorig)\n\u001b[1;32m--> 662\u001b[0m     y \u001b[38;5;241m=\u001b[39m \u001b[43m_to_unmasked_float_array\u001b[49m\u001b[43m(\u001b[49m\u001b[43myconv\u001b[49m\u001b[43m)\u001b[49m\u001b[38;5;241m.\u001b[39mravel()\n\u001b[0;32m    663\u001b[0m \u001b[38;5;28;01melse\u001b[39;00m:\n\u001b[0;32m    664\u001b[0m     y \u001b[38;5;241m=\u001b[39m \u001b[38;5;28mself\u001b[39m\u001b[38;5;241m.\u001b[39m_y\n",
      "File \u001b[1;32mc:\\Users\\NGong\\AppData\\Local\\Programs\\Python\\Python310\\lib\\site-packages\\matplotlib\\cbook\\__init__.py:1335\u001b[0m, in \u001b[0;36m_to_unmasked_float_array\u001b[1;34m(x)\u001b[0m\n\u001b[0;32m   1333\u001b[0m     \u001b[38;5;28;01mreturn\u001b[39;00m np\u001b[38;5;241m.\u001b[39mma\u001b[38;5;241m.\u001b[39masarray(x, \u001b[38;5;28mfloat\u001b[39m)\u001b[38;5;241m.\u001b[39mfilled(np\u001b[38;5;241m.\u001b[39mnan)\n\u001b[0;32m   1334\u001b[0m \u001b[38;5;28;01melse\u001b[39;00m:\n\u001b[1;32m-> 1335\u001b[0m     \u001b[38;5;28;01mreturn\u001b[39;00m \u001b[43mnp\u001b[49m\u001b[38;5;241;43m.\u001b[39;49m\u001b[43masarray\u001b[49m\u001b[43m(\u001b[49m\u001b[43mx\u001b[49m\u001b[43m,\u001b[49m\u001b[43m \u001b[49m\u001b[38;5;28;43mfloat\u001b[39;49m\u001b[43m)\u001b[49m\n",
      "\u001b[1;31mTypeError\u001b[0m: float() argument must be a string or a real number, not 'Period'"
     ]
    },
    {
     "data": {
      "image/png": "[encoded data removed]",
      "text/plain": [
       "<Figure size 864x432 with 1 Axes>"
      ]
     },
     "metadata": {},
     "output_type": "display_data"
    }
   ],
   "source": [
    "# Plotting\n",
    "startFilter=str(startFilter)\n",
    "endFilter=str(endFilter)\n",
    "homelessShelterName=lines[7]\n",
    "plt.figure(figsize=(12, 6))\n",
    "plt.plot(time_crimes['month_year'], monthly_crimes, marker='o')\n",
    "plt.title('Data of crime between in '+homelessShelterName+' '+startFilter+'to' +endFilter)\n",
    "plt.xlabel('Month')\n",
    "plt.ylabel('Sum of ' +crimeType + 'Crime')\n",
    "plt.xticks(rotation=45)\n",
    "plt.grid()\n",
    "plt.tight_layout()\n",
    "plt.show()"
   ]
  },
  {
   "cell_type": "code",
   "execution_count": 41,
   "metadata": {},
   "outputs": [],
   "source": [
    "#creating time filters for each of the homeless shelters - starts with Toft Terrace\n",
    "yearstofilter=[2021,2022,2023,2024]\n",
    "toftTerraceYearCondition=date_time_df['Year'].isin(yearstofilter)\n",
    "toftTerraceMonthStartCondition=date_time_df['Month']='January'\n",
    "toftTerraceMCPPCondition=date_time_df['MCPP']='Ballard South'\n",
    "toftTerracePrecinctCondition=date_time_df['Precinct']='N'\n",
    "toftTerraceBeatCondition=date_time_df['Beat']='B1'\n",
    "toftTerraceSectorCondition=date_time_df['Sector']='B'\n",
    "\n",
    "toftTerrace100LocationLatitudeCondition=(date_time_df['Latitude']>=47.675510-1/2882) & (date_time_df['Latitude']<=47.675510+1/2882)\n",
    "toftTerrace100LocationLongitudeCondition=(date_time_df['Longitude']>=-122.375820-1/2882) & (date_time_df['Longitude']<=-122.375820+1/2882)\n",
    "toftTerrace100LocationCondition=toftTerrace100LocationLatitudeCondition&toftTerrace100LocationLongitudeCondition\n",
    "toftTerraceYear_df=date_time_df[toftTerraceYearCondition]\n",
    "toftTerraceLocationTime_df=toftTerraceYear_df[toftTerrace100LocationCondition]\n",
    "#pd.concat, and using location of each latitude and brute-compare with this value\n",
    "#pd.merge, gets all the remaining values"
   ]
  },
  {
   "cell_type": "code",
   "execution_count": 42,
   "metadata": {},
   "outputs": [],
   "source": [
    "#creating time filters for each of the homeless shelters - Bob G\n",
    "yearstofilter=[2019,2020,2021,2022,2023]\n",
    "BobGYearCondition=date_time_df['Year'].isin(yearstofilter)\n",
    "BobGMonthStartCondition=date_time_df['Month']='June'\n",
    "BobGMCPPCondition=date_time_df['MCPP']='Queen Anne'\n",
    "BobGPrecinctCondition=date_time_df['Precinct']='W'\n",
    "BobGBeatCondition=date_time_df['Beat']='Q3'\n",
    "BobGSectorCondition=date_time_df['Sector']='Q'\n",
    "BobG100LocationCondition=(date_time_df['Latitude']>=47.623510-1/2882) & (date_time_df['Latitude']<=47.623510+1/2882) & (date_time_df['Longitude']>=-122.355790-1/2882) & (date_time_df['Longitude']<=-122.355790+1/2882)\n",
    "BobG_df=date_time_df[BobGYearCondition & BobG100LocationCondition]\n",
    "\n"
   ]
  },
  {
   "cell_type": "code",
   "execution_count": 43,
   "metadata": {},
   "outputs": [],
   "source": [
    "#creating time filters for each of the homeless shelters - Mary Pilgrim Inn\n",
    "yearstofilter=[2019,2020,2021,2022,2023]\n",
    "MaryPilgrimYearCondition=date_time_df['Year'].isin(yearstofilter)\n",
    "MaryPilgrimMonthStartCondition=date_time_df['Month']='October'\n",
    "MaryPilgrimMCPPCondition=date_time_df['MCPP']='Queen Anne'\n",
    "MaryPilgrimPrecinctCondition=date_time_df['Precinct']='N'\n",
    "MaryPilgrimBeatCondition=date_time_df['Beat']='N2'\n",
    "MaryPilgrimSectorCondition=date_time_df['Sector']='N'\n",
    "MaryPilgrim100LocationCondition=(date_time_df['Latitude']>=47.731380-1/2882) & (date_time_df['Latitude']<=47.731380+1/2882) & (date_time_df['Longitude']>=-122.345551-1/2882) & (date_time_df['Longitude']<=-122.345551+1/2882)\n",
    "MaryPilgrim_df=date_time_df[MaryPilgrimYearCondition & MaryPilgrim100LocationCondition]\n"
   ]
  },
  {
   "cell_type": "code",
   "execution_count": 44,
   "metadata": {},
   "outputs": [],
   "source": [
    "#creating time filters for each of the homeless shelters - Gateway\n",
    "yearstofilter=[2020,2021,2022,2023,2024]\n",
    "GatewayYearCondition=date_time_df['Year'].isin(yearstofilter)\n",
    "GatewayMonthStartCondition=date_time_df['Month']='June'\n",
    "GatewayMCPPCondition=date_time_df['MCPP']='Northgate'\n",
    "GatewayPrecinctCondition=date_time_df['Precinct']='N'\n",
    "GatewayBeatCondition=date_time_df['Beat']='N2'\n",
    "GatewaySectorCondition=date_time_df['Sector']='N'\n",
    "Gateway100LocationCondition=(date_time_df['Latitude']>=47.725250-1/2882) & (date_time_df['Latitude']<=47.725250+1/2882) & (date_time_df['Longitude']>=-122.341621-1/2882) & (date_time_df['Longitude']<=-122.341621+1/2882)\n",
    "Gateway_df=date_time_df[GatewayYearCondition & Gateway100LocationCondition]\n"
   ]
  },
  {
   "cell_type": "code",
   "execution_count": 45,
   "metadata": {},
   "outputs": [],
   "source": [
    "#creating time filters for each of the homeless shelters - Salmonberry Lofts\n",
    "yearstofilter=[2021,2022,2023,2024]\n",
    "SalmonberryLoftsYearCondition=date_time_df['Year'].isin(yearstofilter)\n",
    "SalmonberryLoftsMonthStartCondition=date_time_df['Month']='February'\n",
    "SalmonberryLoftsMCPPCondition=date_time_df['MCPP']='Pioneer Square'\n",
    "SalmonberryLoftsPrecinctCondition=date_time_df['Precinct']='W'\n",
    "SalmonberryLoftsBeatCondition=date_time_df['Beat']='K3'\n",
    "SalmonberryLoftsSectorCondition=date_time_df['Sector']='K'\n",
    "SalmonberryLofts100LocationCondition=(date_time_df['Latitude']>=47.623510-1/2882) & (date_time_df['Latitude']<=47.623510+1/2882) & (date_time_df['Longitude']>=-122.330770-1/2882) & (date_time_df['Longitude']<=-122.330770+1/2882)\n",
    "SalmonberryLofts_df=date_time_df[SalmonberryLoftsYearCondition & SalmonberryLofts100LocationCondition]\n"
   ]
  },
  {
   "cell_type": "code",
   "execution_count": 46,
   "metadata": {},
   "outputs": [],
   "source": [
    "#creating time filters for each of the homeless shelters - Sylvia Odom's place\n",
    "yearstofilter=[2014,2015,2016,2017,2018]\n",
    "SylviaOdomYearCondition=date_time_df['Year'].isin(yearstofilter)\n",
    "SylviaOdomMonthStartCondition=date_time_df['Month']='February'\n",
    "SylviaOdomMCPPCondition=date_time_df['MCPP']='Belltown'\n",
    "SylviaOdomPrecinctCondition=date_time_df['Precinct']='W'\n",
    "SylviaOdomBeatCondition=date_time_df['Beat']='M1'\n",
    "SylviaOdomSectorCondition=date_time_df['Sector']='M'\n",
    "SylviaOdom100LocationCondition=(date_time_df['Latitude']>=47.612550-1/2882) & (date_time_df['Latitude']<=47.612550+1/2882) & (date_time_df['Longitude']>=-122.34176-1/2882) & (date_time_df['Longitude']<=-122.34176+1/2882)\n",
    "SylviaOdom_df=date_time_df[SylviaOdomYearCondition & SylviaOdom100LocationCondition]\n"
   ]
  },
  {
   "cell_type": "code",
   "execution_count": 47,
   "metadata": {},
   "outputs": [],
   "source": [
    "#creating time filters for each of the homeless shelters - Scargo\n",
    "yearstofilter=[2021,2022,2023,2024]\n",
    "ScarGoYearCondition=date_time_df['Year'].isin(yearstofilter)\n",
    "ScarGoMonthStartCondition=date_time_df['Month']='January'\n",
    "ScarGoMCPPCondition=date_time_df['MCPP']='Belltown'\n",
    "ScarGoPrecinctCondition=date_time_df['Precinct']='W'\n",
    "ScarGoBeatCondition=date_time_df['Beat']='M1'\n",
    "ScarGoSectorCondition=date_time_df['Sector']='M'\n",
    "ScarGo100LocationCondition=(date_time_df['Latitude']>=47.612670-1/2882) & (date_time_df['Latitude']<=47.612670+1/2882) & (date_time_df['Longitude']>=-122.345900-1/2882) & (date_time_df['Longitude']<=-122.345900+1/2882)\n",
    "ScarGo_df=date_time_df[ScarGoYearCondition & ScarGo100LocationCondition]\n"
   ]
  },
  {
   "cell_type": "code",
   "execution_count": 48,
   "metadata": {},
   "outputs": [],
   "source": [
    "#creating time filters for each of the homeless shelters - Plymouth Place\n",
    "PlymouthPlaceMCPPCondition=date_time_df['MCPP']='Belltown'\n",
    "PlymouthPlacePrecinctCondition=date_time_df['Precinct']='W'\n",
    "PlymouthPlaceBeatCondition=date_time_df['Beat']='D1'\n",
    "PlymouthPlaceSectorCondition=date_time_df['Sector']='D'\n",
    "PlymouthPlace100LocationCondition=(date_time_df['Latitude']>=47.618330-1/2882) & (date_time_df['Latitude']<=47.618330+1/2882) & (date_time_df['Longitude']>=-122.355560-1/2882) & (date_time_df['Longitude']<=-122.355560+1/2882)\n",
    "PlymouthPlace_df=date_time_df[PlymouthPlace100LocationCondition]\n"
   ]
  },
  {
   "cell_type": "code",
   "execution_count": 49,
   "metadata": {},
   "outputs": [],
   "source": [
    "#creating time filters for each of the homeless shelters - Plymouth on Stewart\n",
    "PlymouthStewartMCPPCondition=date_time_df['MCPP']='Belltown'\n",
    "PlymouthStewartPrecinctCondition=date_time_df['Precinct']='W'\n",
    "PlymouthStewartBeatCondition=date_time_df['Beat']='M1'\n",
    "PlymouthStewartSectorCondition=date_time_df['Sector']='M'\n",
    "PlymouthStewart100LocationCondition=(date_time_df['Latitude']>=47.610870-1/2882) & (date_time_df['Latitude']<=47.610870+1/2882) & (date_time_df['Longitude']>=-122.340910-1/2882) & (date_time_df['Longitude']<=-122.340910+1/2882)\n",
    "PlymouthPlace_df=date_time_df[PlymouthStewart100LocationCondition]\n"
   ]
  },
  {
   "cell_type": "code",
   "execution_count": 50,
   "metadata": {},
   "outputs": [],
   "source": [
    "#creating time filters for each of the homeless shelters - Plymouth on First Hill\n",
    "yearstofilter=[2015,2016,2017,2018,2019]\n",
    "PlymouthYearCondition=date_time_df['Year'].isin(yearstofilter)\n",
    "PlymouthFirstMonthStartCondition=date_time_df['Month']='September'\n",
    "PlymouthFirstMCPPCondition=date_time_df['MCPP']='Belltown'\n",
    "PlymouthFirstPrecinctCondition=date_time_df['Precinct']='W'\n",
    "PlymouthFirstBeatCondition=date_time_df['Beat']='M1'\n",
    "PlymouthFirstSectorCondition=date_time_df['Sector']='M'\n",
    "PlymouthFirst100LocationCondition=(date_time_df['Latitude']>=47.605620-1/2882) & (date_time_df['Latitude']<=47.605620+1/2882) & (date_time_df['Longitude']>=-122.327440-1/2882) & (date_time_df['Longitude']<=-122.327440+1/2882)\n",
    "Plymouth_time_df=date_time_df[PlymouthYearCondition]\n",
    "PlymouthFirst_df=date_time_df[PlymouthFirst100LocationCondition]\n"
   ]
  },
  {
   "cell_type": "code",
   "execution_count": 51,
   "metadata": {},
   "outputs": [],
   "source": [
    "#creating time filters for each of the homeless shelters - starts with Pacific Apartments\n",
    "PacificApartmentsMCPPCondition=date_time_df['MCPP']='Downtown Commercial'\n",
    "PacificApartmentsPrecinctCondition=date_time_df['Precinct']='W'\n",
    "PacificApartmentsBeatCondition=date_time_df['Beat']='K1'\n",
    "PacificApartmentsSectorCondition=date_time_df['Sector']='K'\n",
    "\n",
    "PacificApartments100LocationLatitudeCondition=(date_time_df['Latitude']>=47.605020-1/2882) & (date_time_df['Latitude']<=47.605020+1/2882)\n",
    "PacificApartments100LocationLongitudeCondition=(date_time_df['Longitude']>=-122.332390-1/2882) & (date_time_df['Longitude']<=-122.332390+1/2882)\n",
    "PacificApartments100LocationCondition=PacificApartments100LocationLatitudeCondition&PacificApartments100LocationLongitudeCondition\n",
    "PacificApartmentsLocation_df=date_time_df[PacificApartments100LocationCondition]\n",
    "#pd.concat, and using location of each latitude and brute-compare with this value\n",
    "#pd.merge, gets all the remaining values"
   ]
  },
  {
   "cell_type": "code",
   "execution_count": 52,
   "metadata": {},
   "outputs": [],
   "source": [
    "#creating time filters for each of the homeless shelters - starts with Bob Marcia and Almquist Place\n",
    "yearstofilter=[2018,2019,2020,2021,2022]\n",
    "BobMarciaYearCondition=date_time_df['Year'].isin(yearstofilter)\n",
    "BobMarciaMonthStartCondition=date_time_df['Month']='April'\n",
    "BobMarciaMCPPCondition=date_time_df['MCPP']='Chinatown/International District'\n",
    "BobMarciaPrecinctCondition=date_time_df['Precinct']='W'\n",
    "BobMarciaBeatCondition=date_time_df['Beat']='K3'\n",
    "BobMarciaSectorCondition=date_time_df['Sector']='K'\n",
    "BobMarcia100LocationLatitudeCondition=(date_time_df['Latitude']>=47.598160-1/2882) & (date_time_df['Latitude']<=47.598160+1/2882)\n",
    "BobMarcia100LocationLongitudeCondition=(date_time_df['Longitude']>=-122.313660-1/2882) & (date_time_df['Longitude']<=-122.313660+1/2882)\n",
    "BobMarcia100LocationCondition=BobMarcia100LocationLatitudeCondition&BobMarcia100LocationLongitudeCondition\n",
    "BobMarciaYear_df=date_time_df[BobMarciaYearCondition]\n",
    "BobMarciaLocationTime_df=BobMarciaYear_df[BobMarcia100LocationCondition]\n",
    "#pd.concat, and using location of each latitude and brute-compare with this value\n",
    "#pd.merge, gets all the remaining values"
   ]
  },
  {
   "cell_type": "code",
   "execution_count": 53,
   "metadata": {},
   "outputs": [],
   "source": [
    "#creating time filters for each of the homeless shelters - starts with Blake House\n",
    "yearstofilter=[2021,2022,2023,2024]\n",
    "BlakeHouseYearCondition=date_time_df['Year'].isin(yearstofilter)\n",
    "BlakeHouseMonthStartCondition=date_time_df['Month']='April'\n",
    "BlakeHouseMCPPCondition=date_time_df['MCPP']='Capitol Hill'\n",
    "BlakeHousePrecinctCondition=date_time_df['Precinct']='E'\n",
    "BlakeHouseBeatCondition=date_time_df['Beat']='E3'\n",
    "BlakeHouseSectorCondition=date_time_df['Sector']='E'\n",
    "BlakeHouse100LocationLatitudeCondition=(date_time_df['Latitude']>=47.611230-1/2882) & (date_time_df['Latitude']<=47.611230+1/2882)\n",
    "BlakeHouse100LocationLongitudeCondition=(date_time_df['Longitude']>=-122.322010-1/2882) & (date_time_df['Longitude']<=-122.322010+1/2882)\n",
    "BlakeHouse100LocationCondition=BlakeHouse100LocationLatitudeCondition&BlakeHouse100LocationLongitudeCondition\n",
    "BlakeHouseYear_df=date_time_df[BlakeHouseYearCondition]\n",
    "BlakeHouseLocationTime_df=BlakeHouseYear_df[BlakeHouse100LocationCondition]\n"
   ]
  },
  {
   "cell_type": "code",
   "execution_count": 55,
   "metadata": {},
   "outputs": [],
   "source": [
    "#creating time filters for each of the homeless shelters - starts with AL Humphrey House\n",
    "yearstofilter=[2008,2009,2010,2011,2012]\n",
    "ALHouseYearCondition=date_time_df['Year'].isin(yearstofilter)\n",
    "ALHouseMonthStartCondition=date_time_df['Month']='July'\n",
    "ALHouseMCPPCondition=date_time_df['MCPP']='Belltown'\n",
    "ALHousePrecinctCondition=date_time_df['Precinct']='W'\n",
    "ALHouseBeatCondition=date_time_df['Beat']='D1'\n",
    "ALHouseSectorCondition=date_time_df['Sector']='D'\n",
    "ALHouse100LocationLatitudeCondition=(date_time_df['Latitude']>=47.611230-1/2882) & (date_time_df['Latitude']<=47.611230+1/2882)\n",
    "ALHouse100LocationLongitudeCondition=(date_time_df['Longitude']>=-122.322010-1/2882) & (date_time_df['Longitude']<=-122.322010+1/2882)\n",
    "ALHouse100LocationCondition=ALHouse100LocationLatitudeCondition&ALHouse100LocationLongitudeCondition\n",
    "ALHouseYear_df=date_time_df[ALHouseYearCondition]\n",
    "ALHouseLocationTime_df=ALHouseYear_df[ALHouse100LocationCondition]\n"
   ]
  },
  {
   "cell_type": "code",
   "execution_count": null,
   "metadata": {},
   "outputs": [],
   "source": []
  },
  {
   "cell_type": "code",
   "execution_count": null,
   "metadata": {},
   "outputs": [],
   "source": []
  },
  {
   "cell_type": "code",
   "execution_count": null,
   "metadata": {},
   "outputs": [],
   "source": []
  },
  {
   "cell_type": "code",
   "execution_count": null,
   "metadata": {},
   "outputs": [],
   "source": []
  },
  {
   "cell_type": "code",
   "execution_count": null,
   "metadata": {},
   "outputs": [],
   "source": []
  },
  {
   "cell_type": "code",
   "execution_count": null,
   "metadata": {},
   "outputs": [],
   "source": []
  },
  {
   "cell_type": "code",
   "execution_count": null,
   "metadata": {},
   "outputs": [],
   "source": []
  },
  {
   "cell_type": "code",
   "execution_count": null,
   "metadata": {},
   "outputs": [],
   "source": []
  },
  {
   "cell_type": "code",
   "execution_count": null,
   "metadata": {},
   "outputs": [],
   "source": [
    "print(date_time_df['Longitude'].head())"
   ]
  }
 ],
 "metadata": {
  "kernelspec": {
   "display_name": "Python 3",
   "language": "python",
   "name": "python3"
  },
  "language_info": {
   "codemirror_mode": {
    "name": "ipython",
    "version": 3
   },
   "file_extension": ".py",
   "mimetype": "text/x-python",
   "name": "python",
   "nbconvert_exporter": "python",
   "pygments_lexer": "ipython3",
   "version": "3.10.3"
  }
 },
 "nbformat": 4,
 "nbformat_minor": 2
}
