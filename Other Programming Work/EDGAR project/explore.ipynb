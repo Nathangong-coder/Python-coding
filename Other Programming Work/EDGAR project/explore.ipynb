{
 "cells": [
  {
   "cell_type": "code",
   "execution_count": 1,
   "metadata": {},
   "outputs": [],
   "source": [
    "from edgar import *\n",
    "from edgar.financials import Financials\n",
    "import requests\n",
    "import pandas as pd\n",
    "import html5lib\n",
    "import logging\n",
    "from xbrl.cache import HttpCache\n",
    "from xbrl.instance import XbrlParser, XbrlInstance"
   ]
  },
  {
   "cell_type": "code",
   "execution_count": 2,
   "metadata": {},
   "outputs": [],
   "source": [
    "def search_string(s, search):\n",
    "    return search in str(s).lower()\n",
    "\n",
    "def searchFairValueMeasurement(df):\n",
    "    for i in range(len(df)):\n",
    "        # Search for the string 'al' in all columns\n",
    "        search = df[i].apply(lambda x: x.map(lambda s: search_string(s, 'Fair Value Measurements')))\n",
    "        if search.empty==False:\n",
    "            search = df[i].apply(lambda x: x.map(lambda s: search_string(s, 'Money market funds')))\n",
    "            if search.empty==False:\n",
    "                return df[i]\n",
    "            else:\n",
    "                print('Kinda Skill Issue')\n",
    "        else:\n",
    "            #need to figure out where FairValueTracker was found in the list (which list item it was)\n",
    "            #then equal it to df and return it\n",
    "            print('Skill Issue')"
   ]
  },
  {
   "cell_type": "code",
   "execution_count": 3,
   "metadata": {},
   "outputs": [],
   "source": [
    "def searchOtherFootnotes(df):\n",
    "    for i in df:\n",
    "        FootnoteTracker=df.get('')\n",
    "        OtherFootnoteTracker=df.get('')\n",
    "        if FootnoteTracker=='Cool':\n",
    "            return\n",
    "        elif OtherFootnoteTracker =='Super Cool':  \n",
    "            return\n",
    "        else:\n",
    "            print(\"Skill issue\")"
   ]
  },
  {
   "cell_type": "code",
   "execution_count": null,
   "metadata": {},
   "outputs": [],
   "source": [
    "set_identity(\"Nathan Gong ngong@eastsideprep.org\")\n",
    "company=Company(\"AAPL\")\n",
    "filings = Company(\"AAPL\").get_filings(form=\"10-K\").latest(10)\n",
    "print(filings)"
   ]
  },
  {
   "cell_type": "code",
   "execution_count": 3,
   "metadata": {},
   "outputs": [],
   "source": [
    "#first using only 1 filing (2019 one)\n",
    "filings4=filings[4]\n"
   ]
  },
  {
   "cell_type": "code",
   "execution_count": 4,
   "metadata": {},
   "outputs": [],
   "source": [
    "#use the hack from sec-api.io to read in the html file\n",
    "#first casting to html using edgar library\n",
    "html_filings = filings4.html()\n",
    "\n",
    "# read HTML table from a string and convert to dataframe\n",
    "tables = pd.read_html(html_filings)"
   ]
  },
  {
   "cell_type": "code",
   "execution_count": null,
   "metadata": {},
   "outputs": [],
   "source": [
    "xbrl_filings=filings4.xbrl()\n",
    "logging.basicConfig(level=logging.INFO)\n",
    "cache: HttpCache = HttpCache('./cache')\n",
    "parser = XbrlParser(cache)\n",
    "xbrl_filings=parser.parse_instance(xbrl_filings)"
   ]
  },
  {
   "cell_type": "code",
   "execution_count": null,
   "metadata": {},
   "outputs": [],
   "source": [
    "# first table includes the financial statements\n",
    "df = tables\n",
    "print(df)\n",
    "FairValue=searchFairValueMeasurement(df)\n"
   ]
  },
  {
   "cell_type": "code",
   "execution_count": null,
   "metadata": {},
   "outputs": [],
   "source": []
  }
 ],
 "metadata": {
  "kernelspec": {
   "display_name": "Python 3",
   "language": "python",
   "name": "python3"
  },
  "language_info": {
   "codemirror_mode": {
    "name": "ipython",
    "version": 3
   },
   "file_extension": ".py",
   "mimetype": "text/x-python",
   "name": "python",
   "nbconvert_exporter": "python",
   "pygments_lexer": "ipython3",
   "version": "3.10.3"
  }
 },
 "nbformat": 4,
 "nbformat_minor": 2
}
