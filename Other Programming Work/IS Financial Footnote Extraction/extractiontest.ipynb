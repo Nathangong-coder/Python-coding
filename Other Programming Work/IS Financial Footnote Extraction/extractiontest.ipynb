{
 "cells": [
  {
   "cell_type": "code",
   "execution_count": 3,
   "metadata": {},
   "outputs": [],
   "source": [
    "from edgar import *\n",
    "from edgar.financials import Financials\n",
    "import requests\n",
    "import pandas as pd\n",
    "import html5lib\n"
   ]
  },
  {
   "cell_type": "code",
   "execution_count": 6,
   "metadata": {},
   "outputs": [
    {
     "data": {
      "text/html": [
       "<pre style=\"white-space:pre;overflow-x:auto;line-height:normal;font-family:Menlo,'DejaVu Sans Mono',consolas,'Courier New',monospace\"><span style=\"color: #7fbfbf; text-decoration-color: #7fbfbf\">[21:23:59] </span><span style=\"color: #000080; text-decoration-color: #000080\">INFO    </span> Identity of the Edgar REST client set to <span style=\"font-weight: bold\">[</span>Nathan Gong ngong@eastsideprep.org<span style=\"font-weight: bold\">]</span>       <a href=\"file://c:\\Users\\NGong\\AppData\\Local\\Programs\\Python\\Python310\\lib\\site-packages\\edgar\\core.py\" target=\"_blank\"><span style=\"color: #7f7f7f; text-decoration-color: #7f7f7f\">core.py</span></a><span style=\"color: #7f7f7f; text-decoration-color: #7f7f7f\">:</span><a href=\"file://c:\\Users\\NGong\\AppData\\Local\\Programs\\Python\\Python310\\lib\\site-packages\\edgar\\core.py#153\" target=\"_blank\"><span style=\"color: #7f7f7f; text-decoration-color: #7f7f7f\">153</span></a>\n",
       "</pre>\n"
      ],
      "text/plain": [
       "\u001b[2;36m[21:23:59]\u001b[0m\u001b[2;36m \u001b[0m\u001b[34mINFO    \u001b[0m Identity of the Edgar REST client set to \u001b[1m[\u001b[0mNathan Gong ngong@eastsideprep.org\u001b[1m]\u001b[0m       \u001b]8;id=250501;file://c:\\Users\\NGong\\AppData\\Local\\Programs\\Python\\Python310\\lib\\site-packages\\edgar\\core.py\u001b\\\u001b[2mcore.py\u001b[0m\u001b]8;;\u001b\\\u001b[2m:\u001b[0m\u001b]8;id=831422;file://c:\\Users\\NGong\\AppData\\Local\\Programs\\Python\\Python310\\lib\\site-packages\\edgar\\core.py#153\u001b\\\u001b[2m153\u001b[0m\u001b]8;;\u001b\\\n"
      ]
     },
     "metadata": {},
     "output_type": "display_data"
    }
   ],
   "source": [
    "set_identity(\"Nathan Gong ngong@eastsideprep.org\")\n",
    "\n",
    "df = pd.read_excel(\"C:/Users/NGong/Downloads/Independent Study Stuff/annual_firm_level_Darmouni_Mota_edited.xlsx\",sheet_name=\"fanff_agg_data\")\n",
    "\n",
    "company=Company(\"AAPL\")\n",
    "filings = company.get_filings(form=\"10-K\").latest(10)"
   ]
  },
  {
   "cell_type": "code",
   "execution_count": 8,
   "metadata": {},
   "outputs": [],
   "source": [
    "data_df = pd.read_excel(\"C:/Users/NGong/Downloads/Independent Study Stuff/annual_firm_level_Darmouni_Mota_edited.xlsx\",sheet_name=\"Sheet1\")\n"
   ]
  },
  {
   "cell_type": "code",
   "execution_count": null,
   "metadata": {},
   "outputs": [],
   "source": [
    "print(df.head())\n",
    "print(data_df.head())"
   ]
  },
  {
   "cell_type": "code",
   "execution_count": 16,
   "metadata": {},
   "outputs": [],
   "source": [
    "cik_tech_df=open(\"C:/Users/NGong/Downloads/Independent Study Stuff/CIK of tech.txt\")\n",
    "cik_health_df=open(\"C:/Users/NGong/Downloads/Independent Study Stuff/CIK of health.txt\")\n",
    "cik_energy_df=open(\"C:/Users/NGong/Downloads/Independent Study Stuff/CIK of energy.txt\")\n",
    "cik_shops_df=open(\"C:/Users/NGong/Downloads/Independent Study Stuff/CIK of shops.txt\")"
   ]
  },
  {
   "cell_type": "code",
   "execution_count": 19,
   "metadata": {},
   "outputs": [],
   "source": [
    "cik_test_df=open(\"C:/Users/NGong/Downloads/Independent Study Stuff/CIK.docx\")"
   ]
  }
 ],
 "metadata": {
  "kernelspec": {
   "display_name": "Python 3",
   "language": "python",
   "name": "python3"
  },
  "language_info": {
   "codemirror_mode": {
    "name": "ipython",
    "version": 3
   },
   "file_extension": ".py",
   "mimetype": "text/x-python",
   "name": "python",
   "nbconvert_exporter": "python",
   "pygments_lexer": "ipython3",
   "version": "3.10.3"
  }
 },
 "nbformat": 4,
 "nbformat_minor": 2
}
